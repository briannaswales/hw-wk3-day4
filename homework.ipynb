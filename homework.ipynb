{
 "metadata": {
  "language_info": {
   "codemirror_mode": {
    "name": "ipython",
    "version": 3
   },
   "file_extension": ".py",
   "mimetype": "text/x-python",
   "name": "python",
   "nbconvert_exporter": "python",
   "pygments_lexer": "ipython3",
   "version": "3.8.5"
  },
  "orig_nbformat": 2,
  "kernelspec": {
   "name": "python3",
   "display_name": "Python 3.8.5 64-bit ('base': conda)",
   "metadata": {
    "interpreter": {
     "hash": "dca0ade3e726a953b501b15e8e990130d2b7799f14cfd9f4271676035ebe5511"
    }
   }
  }
 },
 "nbformat": 4,
 "nbformat_minor": 2,
 "cells": [
  {
   "cell_type": "code",
   "execution_count": null,
   "metadata": {},
   "outputs": [],
   "source": [
    "Use python to read the file regex_test.txt and print the last name on each line using regular expressions and groups (return None for names with no first and last name, or names that aren't properly capitalized)"
   ]
  },
  {
   "cell_type": "code",
   "execution_count": 3,
   "metadata": {},
   "outputs": [
    {
     "output_type": "stream",
     "name": "stdout",
     "text": [
      "Abraham Lincoln\nAndrew P Garfield\nConnor Milliken\nJordan Alexander Williams\nMadonna\nprogramming is cool\n"
     ]
    }
   ],
   "source": [
    "import re\n",
    "\n",
    "file = open(\"names.txt\")\n",
    "data = file.read()\n",
    "print(data)\n",
    "file.close()"
   ]
  },
  {
   "cell_type": "code",
   "execution_count": 16,
   "metadata": {},
   "outputs": [
    {
     "output_type": "stream",
     "name": "stdout",
     "text": [
      "[]\nnot a name\n"
     ]
    }
   ],
   "source": [
    "pattern = re.compile(r'(?P<first>[A-Z]^[a-z]+)\\s{1}(?P<middle>[A-Z]^[a-z]*)\\s{1}(?P<last>[A-Z][a-z]+)')\n",
    "\n",
    "notValid = re.compile(r'(?P<first>[A-Z][a-z]+)\\s{1}(?P<middle>[a-z]*)\\s{1}(?P<last>[a-z]+)')\n",
    "\n",
    "found_names = pattern.findall(data)\n",
    "print(found_names)\n",
    "\n",
    "for name in data.split(','):\n",
    "#     print(name)\n",
    "    match = pattern.search(name)\n",
    "    \n",
    "    if match:\n",
    "        print(f\"{match.group('last')}, {match.group('middle')}, {match.group('first')}\")\n",
    "    else:\n",
    "        print(\"not a name\")\n"
   ]
  }
 ]
}